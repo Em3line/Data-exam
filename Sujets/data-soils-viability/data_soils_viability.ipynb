{
 "cells": [
  {
   "cell_type": "markdown",
   "metadata": {},
   "source": [
    "# Prediction of Soil Viability for Sustainable Agriculture"
   ]
  },
  {
   "cell_type": "markdown",
   "metadata": {},
   "source": [
    "🎯 The goal of this challenge is to train a model that classifies soils as viable or not for sustainable agriculture."
   ]
  },
  {
   "cell_type": "markdown",
   "metadata": {},
   "source": [
    "💡 As part of an initiative to promote sustainable agriculture worldwide, experiments were made at different locations.\n",
    "\n",
    "Each experiment consisted in an analysis of the soil.  \n",
    "The results of these analysis are our features.\n",
    "\n",
    "After the analysis, a small agriculture project was launched at the location:    \n",
    "- If the project was successful, the soil was labeled as viable.  \n",
    "- On the other hand if the project failed, the soil was labeled as not-viable.  \n",
    "\n",
    "The viability of the soil is our target."
   ]
  },
  {
   "cell_type": "markdown",
   "metadata": {},
   "source": [
    "💡 Small test projects were used for data collection, but the ambition is to launch projects of much larger scale.  \n",
    "\n",
    "The costs and time investment on these large scale projects are extremely high.  \n",
    "\n",
    "🎯 To be valuable, our model should be right at least 90% of the time when it identifies a viable soil."
   ]
  },
  {
   "cell_type": "markdown",
   "metadata": {},
   "source": [
    "Here is a description of the fields:\n",
    "- **id**: Unique identification number of the experiment\n",
    "- **scientist**: Name of the scientist responsible for the experiment\n",
    "- **measure_index**: Engineered measure of soil characteristics\n",
    "- **measure_moisture**: Moisture level of the soil\n",
    "- **measure_temperature**: Temperature of the soil, in Celsius degrees\n",
    "- **measure_chemicals**: Indice of chemicals presence in the soil\n",
    "- **measure_biodiversity**: Indice of biodiversity in the soil\n",
    "- **measure_flora**: Indice of diversity of flora in the soil\n",
    "- **main_element**: Symbol of the main chemical element found in the soil\n",
    "- **past_agriculture**: Indicates the presence of past agriculture on the soil\n",
    "- **soil_condition**: Overall indicator of the soil fertility\n",
    "- **datetime_start**: Timestamp of experiment's start \n",
    "- **datetime_end**: Timestamp of experiment's end\n",
    "- **target**: Viability of the soil  \n",
    "    - 1: means the soil was viable, i.e. the test project was a success  \n",
    "    - 0: means the soil was not viable, i.e. the test project was a failure"
   ]
  },
  {
   "cell_type": "markdown",
   "metadata": {},
   "source": [
    "## Data Collection"
   ]
  },
  {
   "cell_type": "markdown",
   "metadata": {},
   "source": [
    "**📝 Load the csv provided at this URL: https://wagon-public-datasets.s3.amazonaws.com/certification/soils_viability/soils_viability_train.csv.**"
   ]
  },
  {
   "cell_type": "code",
   "execution_count": 1,
   "metadata": {
    "ExecuteTime": {
     "end_time": "2021-09-09T15:39:40.398126Z",
     "start_time": "2021-09-09T15:39:40.377328Z"
    },
    "tags": [
     "challengify"
    ]
   },
   "outputs": [],
   "source": [
    "# YOUR CODE HERE"
   ]
  },
  {
   "cell_type": "markdown",
   "metadata": {
    "ExecuteTime": {
     "end_time": "2021-08-26T15:16:16.968282Z",
     "start_time": "2021-08-26T15:16:16.912761Z"
    }
   },
   "source": [
    "**📝 Clean the dataset and store the resulting dataset in the `data` variable:**"
   ]
  },
  {
   "cell_type": "code",
   "execution_count": 6,
   "metadata": {
    "ExecuteTime": {
     "end_time": "2021-09-09T15:39:40.500340Z",
     "start_time": "2021-09-09T15:39:40.463560Z"
    },
    "tags": [
     "challengify"
    ]
   },
   "outputs": [],
   "source": [
    "# YOUR CODE HERE"
   ]
  },
  {
   "cell_type": "markdown",
   "metadata": {},
   "source": [
    "### 💾 Save your results\n",
    "\n",
    "Run the cell below to save your results."
   ]
  },
  {
   "cell_type": "code",
   "execution_count": 16,
   "metadata": {},
   "outputs": [],
   "source": [
    "from nbresult import ChallengeResult\n",
    "results = ChallengeResult(\n",
    "    \"data_cleaning\",\n",
    "    columns=data.columns,\n",
    "    shape=data.shape,\n",
    "    samples=data.loc[7000:,:]\n",
    ")\n",
    "results.write()"
   ]
  },
  {
   "cell_type": "markdown",
   "metadata": {},
   "source": [
    "## Target, Baseline & Metrics"
   ]
  },
  {
   "cell_type": "markdown",
   "metadata": {
    "ExecuteTime": {
     "end_time": "2021-08-26T09:51:04.532853Z",
     "start_time": "2021-08-26T09:51:04.520413Z"
    }
   },
   "source": [
    "**📝 Check the number of target classes and their repartition.**"
   ]
  },
  {
   "cell_type": "code",
   "execution_count": 18,
   "metadata": {
    "ExecuteTime": {
     "end_time": "2021-09-09T15:39:41.810088Z",
     "start_time": "2021-09-09T15:39:41.778859Z"
    },
    "tags": [
     "challengify"
    ]
   },
   "outputs": [],
   "source": [
    "# YOUR CODE HERE"
   ]
  },
  {
   "cell_type": "markdown",
   "metadata": {},
   "source": [
    "❓ Is the dataset balanced?"
   ]
  },
  {
   "cell_type": "markdown",
   "metadata": {
    "tags": [
     "challengify"
    ]
   },
   "source": [
    "> YOUR ANSWER HERE"
   ]
  },
  {
   "cell_type": "markdown",
   "metadata": {},
   "source": [
    "🎯 Recall our initial requirement:\n",
    "\n",
    "**\"To be valuable, our model should be right at least 90% of the time when it predicts a viable soil.\"**\n",
    "\n",
    "📝 Store the name of the metric we should use for this purpose in a variable `metric` from the list proposed by [Scikit-learn](https://scikit-learn.org/stable/modules/model_evaluation.html#common-cases-predefined-values).\n"
   ]
  },
  {
   "cell_type": "code",
   "execution_count": 19,
   "metadata": {
    "ExecuteTime": {
     "end_time": "2021-09-09T15:39:41.877982Z",
     "start_time": "2021-09-09T15:39:41.862118Z"
    },
    "tags": [
     "challengify"
    ]
   },
   "outputs": [],
   "source": [
    "# YOUR CODE HERE"
   ]
  },
  {
   "cell_type": "markdown",
   "metadata": {},
   "source": [
    "**📝 Compute the baseline score and store the result as a floating number in the `baseline_score` variable.**\n"
   ]
  },
  {
   "cell_type": "code",
   "execution_count": 20,
   "metadata": {
    "ExecuteTime": {
     "end_time": "2021-09-09T15:39:41.825750Z",
     "start_time": "2021-09-09T15:39:41.812050Z"
    },
    "tags": [
     "challengify"
    ]
   },
   "outputs": [],
   "source": [
    "# YOUR CODE HERE"
   ]
  },
  {
   "cell_type": "markdown",
   "metadata": {},
   "source": [
    "**📝 Store the target in a variable named `y`.**"
   ]
  },
  {
   "cell_type": "code",
   "execution_count": 21,
   "metadata": {
    "ExecuteTime": {
     "end_time": "2021-09-09T15:39:41.857148Z",
     "start_time": "2021-09-09T15:39:41.827800Z"
    },
    "tags": [
     "challengify"
    ]
   },
   "outputs": [],
   "source": [
    "# YOUR CODE HERE"
   ]
  },
  {
   "cell_type": "markdown",
   "metadata": {},
   "source": [
    "### 💾 Save your results\n",
    "\n",
    "Run the cell below to save your results."
   ]
  },
  {
   "cell_type": "code",
   "execution_count": 22,
   "metadata": {},
   "outputs": [],
   "source": [
    "results = ChallengeResult(\n",
    "    \"baseline\",\n",
    "    metric=metric,\n",
    "    baseline=baseline_score\n",
    ")\n",
    "results.write()"
   ]
  },
  {
   "cell_type": "markdown",
   "metadata": {},
   "source": [
    "## Features"
   ]
  },
  {
   "cell_type": "code",
   "execution_count": 24,
   "metadata": {
    "ExecuteTime": {
     "end_time": "2021-09-09T15:39:41.935151Z",
     "start_time": "2021-09-09T15:39:41.880164Z"
    }
   },
   "outputs": [],
   "source": [
    "from sklearn import set_config; set_config(display='diagram')"
   ]
  },
  {
   "cell_type": "markdown",
   "metadata": {},
   "source": [
    "**📝 Store the features in a DataFrame `X`.**\n"
   ]
  },
  {
   "cell_type": "code",
   "execution_count": 25,
   "metadata": {
    "ExecuteTime": {
     "end_time": "2021-09-09T15:39:41.954123Z",
     "start_time": "2021-09-09T15:39:41.937063Z"
    },
    "tags": [
     "challengify"
    ]
   },
   "outputs": [],
   "source": [
    "# YOUR CODE HERE"
   ]
  },
  {
   "cell_type": "markdown",
   "metadata": {},
   "source": [
    "💡 Two features in there are useless.\n",
    "\n",
    "- `id`: serves a technical need and does not carry any information.  \n",
    "- `scientist`: almost all experiments were conducted by different scientists, we assume they all followed the same protocol for the experiment.\n",
    "\n",
    "**📝 Drop these two features.**"
   ]
  },
  {
   "cell_type": "code",
   "execution_count": 26,
   "metadata": {
    "ExecuteTime": {
     "end_time": "2021-09-09T15:39:41.973910Z",
     "start_time": "2021-09-09T15:39:41.955889Z"
    },
    "tags": [
     "challengify"
    ]
   },
   "outputs": [],
   "source": [
    "# YOUR CODE HERE"
   ]
  },
  {
   "cell_type": "markdown",
   "metadata": {},
   "source": [
    "**📝 Create variables to store feature names according to their types.**"
   ]
  },
  {
   "cell_type": "markdown",
   "metadata": {
    "ExecuteTime": {
     "end_time": "2021-08-26T15:23:40.164290Z",
     "start_time": "2021-08-26T15:23:40.149621Z"
    }
   },
   "source": [
    "- `feat_num`: list of numerical features' name\n",
    "- `feat_cat` list of categorical features' name\n",
    "- `feat_time` list of time features' name"
   ]
  },
  {
   "cell_type": "code",
   "execution_count": 27,
   "metadata": {
    "ExecuteTime": {
     "end_time": "2021-09-09T15:39:41.994679Z",
     "start_time": "2021-09-09T15:39:41.976174Z"
    },
    "tags": [
     "challengify"
    ]
   },
   "outputs": [],
   "source": [
    "# YOUR CODE HERE"
   ]
  },
  {
   "cell_type": "markdown",
   "metadata": {},
   "source": [
    "💡 We will ignore date-like features for the basic preprocessing.\n",
    "\n",
    "**📝 Create `X_basic` that contains only numerical and categorical features.**\n"
   ]
  },
  {
   "cell_type": "code",
   "execution_count": 28,
   "metadata": {
    "ExecuteTime": {
     "end_time": "2021-09-09T15:39:42.025512Z",
     "start_time": "2021-09-09T15:39:41.997100Z"
    },
    "tags": [
     "challengify"
    ]
   },
   "outputs": [],
   "source": [
    "# YOUR CODE HERE"
   ]
  },
  {
   "cell_type": "markdown",
   "metadata": {},
   "source": [
    "### 💾 Save your results\n",
    "\n",
    "Run the cell below to save your results."
   ]
  },
  {
   "cell_type": "code",
   "execution_count": 29,
   "metadata": {
    "ExecuteTime": {
     "end_time": "2021-09-09T15:39:42.054493Z",
     "start_time": "2021-09-09T15:39:42.027906Z"
    }
   },
   "outputs": [],
   "source": [
    "from nbresult import ChallengeResult\n",
    "result = ChallengeResult(\n",
    "    \"features\",\n",
    "    columns=X.columns,\n",
    "    shape=X.shape,\n",
    "    target=y.ndim\n",
    ")\n",
    "result.write()"
   ]
  },
  {
   "cell_type": "markdown",
   "metadata": {},
   "source": [
    "## Preprocessing"
   ]
  },
  {
   "cell_type": "code",
   "execution_count": 31,
   "metadata": {
    "ExecuteTime": {
     "end_time": "2021-09-09T15:39:42.067672Z",
     "start_time": "2021-09-09T15:39:42.056478Z"
    }
   },
   "outputs": [],
   "source": [
    "from sklearn import set_config; set_config(display='diagram')"
   ]
  },
  {
   "cell_type": "markdown",
   "metadata": {},
   "source": [
    "**📝 Scale and Encode your features.**"
   ]
  },
  {
   "cell_type": "markdown",
   "metadata": {},
   "source": [
    "Prepare a ColumnTransformer that:\n",
    "- Scale the numerical features between $0$ and $1$\n",
    "- Encode the categorical features\n",
    "\n",
    "Store it in a variable `preprocessing_basic`\n"
   ]
  },
  {
   "cell_type": "code",
   "execution_count": 33,
   "metadata": {
    "ExecuteTime": {
     "end_time": "2021-09-09T15:39:42.112025Z",
     "start_time": "2021-09-09T15:39:42.094352Z"
    },
    "tags": [
     "challengify"
    ]
   },
   "outputs": [],
   "source": [
    "# YOUR CODE HERE"
   ]
  },
  {
   "cell_type": "markdown",
   "metadata": {},
   "source": [
    "## Linear Model"
   ]
  },
  {
   "cell_type": "markdown",
   "metadata": {},
   "source": [
    "**📝 Cross-validate a linear model on `X_basic` to see how it compares to your baseline.**"
   ]
  },
  {
   "cell_type": "markdown",
   "metadata": {},
   "source": [
    "Inside a pipeline, apply the basic preprocessing, then use a basic **linear** model with **no penalty**.\n",
    "\n",
    "Cross-validate your pipeline and store the scores in `scores_linear` as a `numpy.ndarray`."
   ]
  },
  {
   "cell_type": "code",
   "execution_count": 36,
   "metadata": {
    "ExecuteTime": {
     "end_time": "2021-09-09T15:39:42.202414Z",
     "start_time": "2021-09-09T15:39:42.190310Z"
    },
    "tags": [
     "challengify"
    ]
   },
   "outputs": [],
   "source": [
    "# YOUR CODE HERE"
   ]
  },
  {
   "cell_type": "markdown",
   "metadata": {},
   "source": [
    "**❓ Does your model beat the baseline? Do you reach your goal?**"
   ]
  },
  {
   "cell_type": "markdown",
   "metadata": {
    "tags": [
     "challengify"
    ]
   },
   "source": [
    "> YOUR ANSWER HERE"
   ]
  },
  {
   "cell_type": "markdown",
   "metadata": {},
   "source": [
    "### 💾 Save your results\n",
    "\n",
    "Run the cell below to save your results."
   ]
  },
  {
   "cell_type": "code",
   "execution_count": 38,
   "metadata": {
    "ExecuteTime": {
     "end_time": "2021-09-09T15:39:42.999830Z",
     "start_time": "2021-09-09T15:39:37.573Z"
    }
   },
   "outputs": [],
   "source": [
    "from nbresult import ChallengeResult\n",
    "X_preproc=preprocessing_basic.fit_transform(X_basic)\n",
    "from sklearn.model_selection import train_test_split\n",
    "X_,X_val,y_,y_val = train_test_split(X_basic,y,test_size=0.3,random_state=10)\n",
    "pipe=pipeline_linear.fit(X_,y_)\n",
    "\n",
    "result = ChallengeResult(\n",
    "    'basic_pipeline',\n",
    "    preproc=preprocessing_basic,\n",
    "    preproc_shape=X_preproc.shape,\n",
    "    pipe=pipeline_linear,\n",
    "    y=y_val,\n",
    "    y_pred=pipeline_linear.predict(X_val),\n",
    "    scores=scores_linear\n",
    ")\n",
    "result.write()"
   ]
  },
  {
   "cell_type": "markdown",
   "metadata": {},
   "source": [
    "## Feature Engineering"
   ]
  },
  {
   "cell_type": "markdown",
   "metadata": {},
   "source": [
    "💡 We are going to look more closely at the features and try to enhance our preprocessing."
   ]
  },
  {
   "cell_type": "markdown",
   "metadata": {},
   "source": [
    "### Enhanced `soil_condition` Encoding"
   ]
  },
  {
   "cell_type": "markdown",
   "metadata": {},
   "source": [
    "**📝 Check the possible values of the feature `soil_condition`**"
   ]
  },
  {
   "cell_type": "code",
   "execution_count": 41,
   "metadata": {
    "ExecuteTime": {
     "end_time": "2021-09-09T15:39:43.001593Z",
     "start_time": "2021-09-09T15:39:37.585Z"
    },
    "tags": [
     "challengify"
    ]
   },
   "outputs": [],
   "source": [
    "# YOUR CODE HERE"
   ]
  },
  {
   "cell_type": "markdown",
   "metadata": {},
   "source": [
    "**❓ Can you a better way to encode the `soil_condition` feature?**"
   ]
  },
  {
   "cell_type": "markdown",
   "metadata": {
    "tags": [
     "challengify"
    ]
   },
   "source": [
    "> YOUR ANSWER HERE"
   ]
  },
  {
   "cell_type": "markdown",
   "metadata": {},
   "source": [
    "**📝 Select a transformer keeping a sense of the order of the values of `soil_condition` to encode that feature.** \n",
    "\n",
    "Encode `soil_condition` from `X` with that relevant encoder and store the result in `X_soil_condition_encoded` as a `numpy.ndarray`."
   ]
  },
  {
   "cell_type": "code",
   "execution_count": 6,
   "metadata": {
    "ExecuteTime": {
     "end_time": "2021-09-08T08:04:46.326504Z",
     "start_time": "2021-09-08T08:04:46.300531Z"
    },
    "tags": [
     "challengify"
    ]
   },
   "outputs": [],
   "source": [
    "# YOUR CODE HERE"
   ]
  },
  {
   "cell_type": "markdown",
   "metadata": {},
   "source": [
    "**📝 Make sure that it works properly.**\n",
    "\n",
    "Check the value counts for the feature `soil_condition`"
   ]
  },
  {
   "cell_type": "code",
   "execution_count": 43,
   "metadata": {
    "ExecuteTime": {
     "end_time": "2021-09-09T15:39:43.004518Z",
     "start_time": "2021-09-09T15:39:37.597Z"
    },
    "tags": [
     "challengify"
    ]
   },
   "outputs": [],
   "source": [
    "# YOUR CODE HERE"
   ]
  },
  {
   "cell_type": "markdown",
   "metadata": {},
   "source": [
    "**📝 Check it again,  after transformation with the relevant encoder:**"
   ]
  },
  {
   "cell_type": "code",
   "execution_count": 46,
   "metadata": {
    "ExecuteTime": {
     "end_time": "2021-09-08T08:04:46.386517Z",
     "start_time": "2021-09-08T08:04:46.363133Z"
    },
    "tags": [
     "challengify"
    ]
   },
   "outputs": [],
   "source": [
    "# YOUR CODE HERE"
   ]
  },
  {
   "cell_type": "markdown",
   "metadata": {},
   "source": [
    "### Custom Time Transformers"
   ]
  },
  {
   "cell_type": "markdown",
   "metadata": {},
   "source": [
    "#### Datetime Features Extraction"
   ]
  },
  {
   "cell_type": "markdown",
   "metadata": {},
   "source": [
    "💡  We want to extract two information from our time features"
   ]
  },
  {
   "cell_type": "markdown",
   "metadata": {
    "ExecuteTime": {
     "end_time": "2021-08-26T15:39:59.268983Z",
     "start_time": "2021-08-26T15:39:59.246286Z"
    }
   },
   "source": [
    "📅 The `month` of the experiment's start\n",
    "\n",
    "⏳ The `duration` of the experiment in an appropriate unit"
   ]
  },
  {
   "cell_type": "markdown",
   "metadata": {},
   "source": [
    "**📝 Compute the `duration` of experiments, and look at the statistics.**"
   ]
  },
  {
   "cell_type": "code",
   "execution_count": 47,
   "metadata": {
    "ExecuteTime": {
     "end_time": "2021-09-09T15:39:43.008118Z",
     "start_time": "2021-09-09T15:39:37.616Z"
    },
    "tags": [
     "challengify"
    ]
   },
   "outputs": [],
   "source": [
    "# YOUR CODE HERE"
   ]
  },
  {
   "cell_type": "markdown",
   "metadata": {},
   "source": [
    "**❓ What is the most accurate time unit to use to describe the `duration` feature?**\n",
    "\n",
    "**📝 Choose between `['days', 'hours', 'minutes', 'seconds']` and store your choice in the `duration_time_unit` variable:**"
   ]
  },
  {
   "cell_type": "code",
   "execution_count": 49,
   "metadata": {
    "tags": [
     "challengify"
    ]
   },
   "outputs": [],
   "source": [
    "# YOUR CODE HERE"
   ]
  },
  {
   "cell_type": "markdown",
   "metadata": {},
   "source": [
    "**📝 Create a `TimeFeaturesExtractor` class that transforms `datetime_start` and `datetime_end` into `month` and `duration`:**\n",
    "- `month` as a number from 1 to 12\n",
    "- `duration` as a float in the relevant `duration_time_unit`"
   ]
  },
  {
   "cell_type": "code",
   "execution_count": 50,
   "metadata": {
    "ExecuteTime": {
     "end_time": "2021-09-09T15:39:43.010193Z",
     "start_time": "2021-09-09T15:39:37.627Z"
    },
    "tags": [
     "challengify"
    ]
   },
   "outputs": [],
   "source": [
    "# YOUR CODE HERE"
   ]
  },
  {
   "cell_type": "markdown",
   "metadata": {},
   "source": [
    "**📝 Apply your `TimeFeaturesExtractor` to _100 rows_ of `X` and store the result in a DataFrame `X_time_features`**\n",
    "\n",
    "Double check that it has **2 columns**: `month` and `duration`, and **100 rows**"
   ]
  },
  {
   "cell_type": "code",
   "execution_count": 51,
   "metadata": {
    "ExecuteTime": {
     "end_time": "2021-09-09T15:39:43.011279Z",
     "start_time": "2021-09-09T15:39:37.632Z"
    },
    "tags": [
     "challengify"
    ]
   },
   "outputs": [],
   "source": [
    "# YOUR CODE HERE"
   ]
  },
  {
   "cell_type": "markdown",
   "metadata": {},
   "source": [
    "#### Cyclical Encoding & Scaling"
   ]
  },
  {
   "cell_type": "markdown",
   "metadata": {},
   "source": [
    "💡 We now have to encode and scale the extracted time features!  "
   ]
  },
  {
   "cell_type": "markdown",
   "metadata": {},
   "source": [
    "You should scale the `duration` between 0 and 1.  \n",
    "\n",
    "However we need to build a **Cyclical Encoder** for the `month`."
   ]
  },
  {
   "cell_type": "markdown",
   "metadata": {},
   "source": [
    "**📝Create a `CyclicalEncoder` class that transforms `month` into `month_cos` and `month_sin`.**"
   ]
  },
  {
   "cell_type": "markdown",
   "metadata": {},
   "source": [
    "Recall the equations:  \n",
    "\n",
    "$month\\_norm = 2\\pi\\frac{month}{12}$  \n",
    "$month\\_cos = \\cos({month\\_norm})$  \n",
    "$month\\_sin = \\sin({month\\_norm})$"
   ]
  },
  {
   "cell_type": "code",
   "execution_count": 52,
   "metadata": {
    "ExecuteTime": {
     "end_time": "2021-09-09T15:39:43.012084Z",
     "start_time": "2021-09-09T15:39:37.640Z"
    },
    "tags": [
     "challengify"
    ]
   },
   "outputs": [],
   "source": [
    "# YOUR CODE HERE"
   ]
  },
  {
   "cell_type": "markdown",
   "metadata": {},
   "source": [
    "**📝 Apply your `CyclicalEncoder` to `X_time_features` and store the result in a DataFrame `X_time_cyclical`.**\n",
    "\n",
    "Double check that it has **2 columns**: `month_cos` and `month_sin`, and **100 rows**"
   ]
  },
  {
   "cell_type": "code",
   "execution_count": 53,
   "metadata": {
    "ExecuteTime": {
     "end_time": "2021-09-09T15:39:43.012914Z",
     "start_time": "2021-09-09T15:39:37.646Z"
    },
    "tags": [
     "challengify"
    ]
   },
   "outputs": [],
   "source": [
    "# YOUR CODE HERE"
   ]
  },
  {
   "cell_type": "markdown",
   "metadata": {},
   "source": [
    "**📝 Build a pipeline, that contains all the steps for time features.**\n",
    "\n",
    "Store it in a variable `preprocessing_time`"
   ]
  },
  {
   "cell_type": "markdown",
   "metadata": {},
   "source": [
    "**Steps**\n",
    "\n",
    "- Extraction of `month` and `duration` from  `datetime_start` and `datetime_end`  \n",
    "- Scaling of `duration` between 0 and 1\n",
    "- Cyclical encoding of `month`"
   ]
  },
  {
   "cell_type": "code",
   "execution_count": 54,
   "metadata": {
    "ExecuteTime": {
     "end_time": "2021-09-09T15:39:43.013690Z",
     "start_time": "2021-09-09T15:39:37.652Z"
    },
    "tags": [
     "challengify"
    ]
   },
   "outputs": [],
   "source": [
    "# YOUR CODE HERE"
   ]
  },
  {
   "cell_type": "markdown",
   "metadata": {},
   "source": [
    "### 💾 Save your results\n",
    "\n",
    "Run the cell below to save your results."
   ]
  },
  {
   "cell_type": "code",
   "execution_count": 56,
   "metadata": {},
   "outputs": [],
   "source": [
    "from nbresult import ChallengeResult\n",
    "results = ChallengeResult(\n",
    "    'feature_engineering',\n",
    "    x_soil_condition=X_soil_condition_encoded,\n",
    "    X_time_features=X_time_features,\n",
    "    X_time_cyclical= X_time_cyclical,\n",
    "    X_time=preprocessing_time.fit_transform(X)\n",
    ")\n",
    "results.write()"
   ]
  },
  {
   "cell_type": "markdown",
   "metadata": {},
   "source": [
    "## Advanced Pipeline"
   ]
  },
  {
   "cell_type": "markdown",
   "metadata": {},
   "source": [
    "**📝  Build a full preprocessing pipeline and store it in `preprocessing_advanced`.**"
   ]
  },
  {
   "cell_type": "markdown",
   "metadata": {},
   "source": [
    "Here are its steps, they should go in a parallel ColumnTransformer\n",
    "\n",
    "- Scale all numerical features between 0 and 1\n",
    "- Encode `main_element`  \n",
    "- Better encode `soil_condition`\n",
    "- Apply the `preprocessing_time` pipeline on `datetime_start` and `datetime_end`"
   ]
  },
  {
   "cell_type": "code",
   "execution_count": 58,
   "metadata": {
    "ExecuteTime": {
     "end_time": "2021-09-09T15:39:43.015494Z",
     "start_time": "2021-09-09T15:39:37.663Z"
    },
    "tags": [
     "challengify"
    ]
   },
   "outputs": [],
   "source": [
    "# YOUR CODE HERE"
   ]
  },
  {
   "cell_type": "markdown",
   "metadata": {},
   "source": [
    "## Regularized Linear Model"
   ]
  },
  {
   "cell_type": "markdown",
   "metadata": {},
   "source": [
    "**📝 Build a pipeline that uses `preprocessing_advanced` and then a _Regularized Linear_ model.**"
   ]
  },
  {
   "cell_type": "markdown",
   "metadata": {},
   "source": [
    "Cross-validate your pipeline and store the scores in a list `scores_regularized`"
   ]
  },
  {
   "cell_type": "code",
   "execution_count": 62,
   "metadata": {
    "ExecuteTime": {
     "end_time": "2021-09-09T15:39:43.018869Z",
     "start_time": "2021-09-09T15:39:37.683Z"
    },
    "tags": [
     "challengify"
    ]
   },
   "outputs": [],
   "source": [
    "# YOUR CODE HERE"
   ]
  },
  {
   "cell_type": "markdown",
   "metadata": {},
   "source": [
    "### 💾 Save your results\n",
    "\n",
    "Run the cell below to save your results."
   ]
  },
  {
   "cell_type": "code",
   "execution_count": 64,
   "metadata": {
    "ExecuteTime": {
     "end_time": "2021-09-09T15:39:43.020657Z",
     "start_time": "2021-09-09T15:39:37.693Z"
    }
   },
   "outputs": [],
   "source": [
    "from nbresult import ChallengeResult\n",
    "from sklearn.model_selection import train_test_split\n",
    "X_,X_val,y_,y_val = train_test_split(X,y,test_size=0.3,random_state=7)\n",
    "pipe=pipeline_regularized.fit(X_,y_)\n",
    "\n",
    "result = ChallengeResult(\n",
    "    'advanced_pipeline',\n",
    "    steps=str(pipeline_regularized.steps),\n",
    "    scores=scores_regularized,\n",
    "    y=y_val,\n",
    "    y_pred=pipeline_regularized.predict(X_val)\n",
    ")\n",
    "result.write()"
   ]
  },
  {
   "cell_type": "markdown",
   "metadata": {},
   "source": [
    "## Dimensionality Reduction"
   ]
  },
  {
   "cell_type": "markdown",
   "metadata": {},
   "source": [
    "**📝 Add a dimensional reduction step as the last step of your `preprocessing_advanced`. Make sure your dimensional reduction keeps _only 12 features_.**"
   ]
  },
  {
   "cell_type": "code",
   "execution_count": 67,
   "metadata": {
    "ExecuteTime": {
     "end_time": "2021-09-09T15:39:43.023453Z",
     "start_time": "2021-09-09T15:39:37.712Z"
    },
    "tags": [
     "challengify"
    ]
   },
   "outputs": [],
   "source": [
    "# YOUR CODE HERE"
   ]
  },
  {
   "cell_type": "markdown",
   "metadata": {},
   "source": [
    "**📝 Apply your `preprocessing_advanced` to `X` and store the result in the `X_preproc_adv` variable.**"
   ]
  },
  {
   "cell_type": "code",
   "execution_count": 68,
   "metadata": {
    "tags": [
     "challengify"
    ]
   },
   "outputs": [],
   "source": [
    "# YOUR CODE HERE"
   ]
  },
  {
   "cell_type": "markdown",
   "metadata": {},
   "source": [
    "### 💾 Save your results\n",
    "\n",
    "Run the cell below to save your results."
   ]
  },
  {
   "cell_type": "code",
   "execution_count": 69,
   "metadata": {},
   "outputs": [],
   "source": [
    "from nbresult import ChallengeResult\n",
    "results=ChallengeResult(\n",
    "    'unsupervised',\n",
    "    algorithm=preprocessing_advanced.steps[-1],\n",
    "    X_preproc_adv=X_preproc_adv\n",
    ")\n",
    "results.write()"
   ]
  },
  {
   "cell_type": "markdown",
   "metadata": {},
   "source": [
    "## Non-linear Model"
   ]
  },
  {
   "cell_type": "markdown",
   "metadata": {},
   "source": [
    "**📝 Build a pipeline that uses `preprocessing_advanced` and then a _Ensemble_ model.**"
   ]
  },
  {
   "cell_type": "markdown",
   "metadata": {},
   "source": [
    "Store this pipeline in the variable `pipeline_ensemble`"
   ]
  },
  {
   "cell_type": "markdown",
   "metadata": {},
   "source": [
    "Cross-validate your pipeline and store the scores in a list `scores_ensemble`"
   ]
  },
  {
   "cell_type": "code",
   "execution_count": 73,
   "metadata": {
    "ExecuteTime": {
     "end_time": "2021-09-09T15:39:43.024242Z",
     "start_time": "2021-09-09T15:39:37.720Z"
    },
    "tags": [
     "challengify"
    ]
   },
   "outputs": [],
   "source": [
    "# YOUR CODE HERE"
   ]
  },
  {
   "cell_type": "markdown",
   "metadata": {},
   "source": [
    "**❓ Does this non-linear model satisfy the goal of the study?**"
   ]
  },
  {
   "cell_type": "markdown",
   "metadata": {
    "tags": [
     "challengify"
    ]
   },
   "source": [
    "> YOUR ANSWER HERE"
   ]
  },
  {
   "cell_type": "markdown",
   "metadata": {},
   "source": [
    "💡 Wait, did our feature engineering helps us ❓"
   ]
  },
  {
   "cell_type": "markdown",
   "metadata": {},
   "source": [
    "**📝 Build a pipeline that uses `preprocessing_basic` and the same Ensemble model as above.**"
   ]
  },
  {
   "cell_type": "code",
   "execution_count": 88,
   "metadata": {
    "ExecuteTime": {
     "end_time": "2021-09-09T15:39:43.026546Z",
     "start_time": "2021-09-09T15:39:37.737Z"
    },
    "tags": [
     "challengify"
    ]
   },
   "outputs": [],
   "source": [
    "# YOUR CODE HERE"
   ]
  },
  {
   "cell_type": "markdown",
   "metadata": {},
   "source": [
    "**❓ What is your conclusion?**"
   ]
  },
  {
   "cell_type": "markdown",
   "metadata": {
    "tags": [
     "challengify"
    ]
   },
   "source": [
    "> YOUR ANSWER HERE"
   ]
  },
  {
   "cell_type": "markdown",
   "metadata": {},
   "source": [
    "### 💾 Save your results\n",
    "\n",
    "Run the cell below to save your results."
   ]
  },
  {
   "cell_type": "code",
   "execution_count": 90,
   "metadata": {},
   "outputs": [],
   "source": [
    "from nbresult import ChallengeResult\n",
    "from sklearn.model_selection import train_test_split\n",
    "X_,X_val,y_,y_val=train_test_split(X,y,test_size=0.3,random_state=7)\n",
    "pipeline_ensemble.fit(X_,y_)\n",
    "y_pred=pipeline_ensemble.predict(X_val)\n",
    "\n",
    "results=ChallengeResult(\n",
    "    'ensemble',\n",
    "    steps=str(pipeline_ensemble.steps),\n",
    "    scores=scores_ensemble,\n",
    "    y=y_val,\n",
    "    y_pred=y_pred\n",
    ")\n",
    "results.write()"
   ]
  },
  {
   "cell_type": "markdown",
   "metadata": {},
   "source": [
    "## Fine-Tuning"
   ]
  },
  {
   "cell_type": "markdown",
   "metadata": {},
   "source": [
    "💡 To improve the model as much as we can, it's time to grid search for optimal hyperparameters"
   ]
  },
  {
   "cell_type": "markdown",
   "metadata": {},
   "source": [
    "**📝 Look at the hyperparameters of your estimator**"
   ]
  },
  {
   "cell_type": "code",
   "execution_count": 93,
   "metadata": {
    "ExecuteTime": {
     "end_time": "2021-09-09T15:39:43.029350Z",
     "start_time": "2021-09-09T15:39:37.754Z"
    },
    "tags": [
     "challengify"
    ]
   },
   "outputs": [],
   "source": [
    "# YOUR CODE HERE"
   ]
  },
  {
   "cell_type": "markdown",
   "metadata": {},
   "source": [
    "**📝 Try to fine tune some hyperparameters to improve your model!**"
   ]
  },
  {
   "cell_type": "code",
   "execution_count": 94,
   "metadata": {
    "ExecuteTime": {
     "end_time": "2021-09-09T15:39:43.030102Z",
     "start_time": "2021-09-09T15:39:37.760Z"
    },
    "tags": [
     "challengify"
    ]
   },
   "outputs": [],
   "source": [
    "# YOUR CODE HERE"
   ]
  },
  {
   "cell_type": "markdown",
   "metadata": {},
   "source": [
    "**📝 Store the _fitted_ grid search in the `search` variable:**"
   ]
  },
  {
   "cell_type": "code",
   "execution_count": 98,
   "metadata": {
    "tags": [
     "challengify"
    ]
   },
   "outputs": [],
   "source": [
    "# YOUR CODE HERE"
   ]
  },
  {
   "cell_type": "markdown",
   "metadata": {},
   "source": [
    "**📝 Store the _cross-validated results_ of your grid search in the `cv_results` variable:**"
   ]
  },
  {
   "cell_type": "code",
   "execution_count": 99,
   "metadata": {
    "tags": [
     "challengify"
    ]
   },
   "outputs": [],
   "source": [
    "# YOUR CODE HERE"
   ]
  },
  {
   "cell_type": "markdown",
   "metadata": {},
   "source": [
    "**📝 Store the _best model_ of your grid search in a variable `tuned_model`.**"
   ]
  },
  {
   "cell_type": "code",
   "execution_count": 100,
   "metadata": {
    "ExecuteTime": {
     "end_time": "2021-09-09T15:39:43.033730Z",
     "start_time": "2021-09-09T15:39:37.779Z"
    },
    "tags": [
     "challengify"
    ]
   },
   "outputs": [],
   "source": [
    "# YOUR CODE HERE"
   ]
  },
  {
   "cell_type": "markdown",
   "metadata": {},
   "source": [
    "### 💾 Save your results\n",
    "\n",
    "Run the cell below to save your results."
   ]
  },
  {
   "cell_type": "code",
   "execution_count": 101,
   "metadata": {
    "ExecuteTime": {
     "end_time": "2021-09-09T15:39:43.035303Z",
     "start_time": "2021-09-09T15:39:37.788Z"
    }
   },
   "outputs": [],
   "source": [
    "from nbresult import ChallengeResult\n",
    "from sklearn.model_selection import train_test_split\n",
    "X_,X_val,y_,y_val=train_test_split(X,y,test_size=0.3,random_state=10)\n",
    "tuned_model.fit(X_,y_)\n",
    "\n",
    "result = ChallengeResult(\n",
    "    'model_tuning',\n",
    "    scores_ensemble=scores_ensemble,\n",
    "    scoring=search.scorer_,\n",
    "    params=search.best_params_,\n",
    "    cv_results=cv_results,\n",
    "    y=y_val,\n",
    "    y_pred=tuned_model.predict(X_val)\n",
    ")\n",
    "result.write()"
   ]
  },
  {
   "cell_type": "markdown",
   "metadata": {},
   "source": [
    "## Prediction"
   ]
  },
  {
   "cell_type": "markdown",
   "metadata": {},
   "source": [
    "**📝 Use your newly fine-tuned model to predict on a test set.**"
   ]
  },
  {
   "cell_type": "markdown",
   "metadata": {},
   "source": [
    "Load the test provided at this url: \"https://wagon-public-datasets.s3.amazonaws.com/certification/soils_viability/soils_viability_test.csv\".\n",
    "\n",
    "Create `X_test` and `y_test`\n",
    "\n",
    "Use your fine-tuned model to predict on `X_test`\n",
    "\n",
    "Print a full classification report with your prediction and `y_test`"
   ]
  },
  {
   "cell_type": "code",
   "execution_count": 104,
   "metadata": {},
   "outputs": [],
   "source": [
    "df_test = pd.read_csv(\"https://wagon-public-datasets.s3.amazonaws.com/certification/soils_viability/soils_viability_test.csv\")"
   ]
  },
  {
   "cell_type": "code",
   "execution_count": 105,
   "metadata": {
    "ExecuteTime": {
     "end_time": "2021-09-09T15:39:43.036804Z",
     "start_time": "2021-09-09T15:39:37.800Z"
    },
    "tags": [
     "challengify"
    ]
   },
   "outputs": [],
   "source": [
    "# YOUR CODE HERE"
   ]
  },
  {
   "cell_type": "markdown",
   "metadata": {},
   "source": [
    "**❓ Comment your results:**"
   ]
  },
  {
   "cell_type": "markdown",
   "metadata": {
    "tags": [
     "challengify"
    ]
   },
   "source": [
    "> YOUR ANSWER HERE"
   ]
  },
  {
   "cell_type": "markdown",
   "metadata": {},
   "source": [
    "## API \n",
    "\n",
    "Time to put a pipeline in production!\n",
    "\n",
    "👉 Go back to the certification interface and follow the instructions about the API challenge.\n",
    "\n",
    "**This final part is independent from the above notebook**"
   ]
  }
 ],
 "metadata": {
  "kernelspec": {
   "display_name": "Python 3 (ipykernel)",
   "language": "python",
   "name": "python3"
  },
  "language_info": {
   "codemirror_mode": {
    "name": "ipython",
    "version": 3
   },
   "file_extension": ".py",
   "mimetype": "text/x-python",
   "name": "python",
   "nbconvert_exporter": "python",
   "pygments_lexer": "ipython3",
   "version": "3.8.12"
  },
  "toc": {
   "base_numbering": 1,
   "nav_menu": {},
   "number_sections": false,
   "sideBar": true,
   "skip_h1_title": false,
   "title_cell": "Table of Contents",
   "title_sidebar": "Contents",
   "toc_cell": false,
   "toc_position": {
    "height": "calc(100% - 180px)",
    "left": "10px",
    "top": "150px",
    "width": "300.297px"
   },
   "toc_section_display": true,
   "toc_window_display": true
  },
  "varInspector": {
   "cols": {
    "lenName": 16,
    "lenType": 16,
    "lenVar": 40
   },
   "kernels_config": {
    "python": {
     "delete_cmd_postfix": "",
     "delete_cmd_prefix": "del ",
     "library": "var_list.py",
     "varRefreshCmd": "print(var_dic_list())"
    },
    "r": {
     "delete_cmd_postfix": ") ",
     "delete_cmd_prefix": "rm(",
     "library": "var_list.r",
     "varRefreshCmd": "cat(var_dic_list()) "
    }
   },
   "types_to_exclude": [
    "module",
    "function",
    "builtin_function_or_method",
    "instance",
    "_Feature"
   ],
   "window_display": false
  }
 },
 "nbformat": 4,
 "nbformat_minor": 4
}
